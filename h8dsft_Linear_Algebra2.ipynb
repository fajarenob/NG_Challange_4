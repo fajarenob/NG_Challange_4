{
  "nbformat": 4,
  "nbformat_minor": 0,
  "metadata": {
    "colab": {
      "name": "h8dsft_Linear_Algebra2.ipynb",
      "provenance": []
    },
    "kernelspec": {
      "name": "python3",
      "display_name": "Python 3"
    },
    "language_info": {
      "name": "python"
    }
  },
  "cells": [
    {
      "cell_type": "code",
      "metadata": {
        "id": "o-3jt1ZQNjfw"
      },
      "source": [
        "import numpy as np\n",
        "from numpy.linalg import inv, det"
      ],
      "execution_count": 31,
      "outputs": []
    },
    {
      "cell_type": "markdown",
      "metadata": {
        "id": "TpD5Qwh-OTIL"
      },
      "source": [
        "#1. Membuat Tensor"
      ]
    },
    {
      "cell_type": "code",
      "metadata": {
        "id": "6IU47nUgK1DJ"
      },
      "source": [
        "a = [[23,50],\n",
        "     [7,12]]\n",
        "b = [[57,67],\n",
        "     [99,43]]\n",
        "c = [[75,21],\n",
        "     [57,12]]\n",
        "d = [[87,26],\n",
        "     [18,84]]\n",
        "\n",
        "A = np.array(a)\n",
        "B = np.array(b)\n",
        "C = np.array(c)\n",
        "D = np.array(d)\n"
      ],
      "execution_count": 32,
      "outputs": []
    },
    {
      "cell_type": "code",
      "metadata": {
        "colab": {
          "base_uri": "https://localhost:8080/"
        },
        "id": "InbY80xFNseL",
        "outputId": "62526f9b-1606-4c9d-a28d-c79b269e06d7"
      },
      "source": [
        "print(A)\n",
        "print(B)\n",
        "print(C)\n",
        "print(D)\n"
      ],
      "execution_count": 33,
      "outputs": [
        {
          "output_type": "stream",
          "name": "stdout",
          "text": [
            "[[23 50]\n",
            " [ 7 12]]\n",
            "[[57 67]\n",
            " [99 43]]\n",
            "[[75 21]\n",
            " [57 12]]\n",
            "[[87 26]\n",
            " [18 84]]\n"
          ]
        }
      ]
    },
    {
      "cell_type": "code",
      "metadata": {
        "colab": {
          "base_uri": "https://localhost:8080/"
        },
        "id": "dOHujjl8HhiG",
        "outputId": "1985328a-3122-49ca-dee2-b23a143ffd49"
      },
      "source": [
        "Tensor = np.array(\n",
        "    [[[23,50],[7,12]],[[57,67],[99,43]],\n",
        "     [[75,21],[57,12]],[[87,26],[18,84]]]\n",
        ")\n",
        "\n",
        "print(Tensor)"
      ],
      "execution_count": 34,
      "outputs": [
        {
          "output_type": "stream",
          "name": "stdout",
          "text": [
            "[[[23 50]\n",
            "  [ 7 12]]\n",
            "\n",
            " [[57 67]\n",
            "  [99 43]]\n",
            "\n",
            " [[75 21]\n",
            "  [57 12]]\n",
            "\n",
            " [[87 26]\n",
            "  [18 84]]]\n"
          ]
        }
      ]
    },
    {
      "cell_type": "code",
      "metadata": {
        "colab": {
          "base_uri": "https://localhost:8080/"
        },
        "id": "wAjCeESrIaaH",
        "outputId": "d218b686-9901-4e05-cd58-56dd771cc296"
      },
      "source": [
        "Tensor.shape"
      ],
      "execution_count": 35,
      "outputs": [
        {
          "output_type": "execute_result",
          "data": {
            "text/plain": [
              "(4, 2, 2)"
            ]
          },
          "metadata": {},
          "execution_count": 35
        }
      ]
    },
    {
      "cell_type": "markdown",
      "metadata": {
        "id": "1cShrXPHOXrb"
      },
      "source": [
        "#2. Melakukan perkalian"
      ]
    },
    {
      "cell_type": "code",
      "metadata": {
        "id": "jUCAnWAwPWr5"
      },
      "source": [
        "a = [[23,50,19],\n",
        "     [7,12,109],\n",
        "     [57,67,98]]\n",
        "b = [[17],\n",
        "     [22],\n",
        "     [19]]\n",
        "c = np.dot(a,b)"
      ],
      "execution_count": 36,
      "outputs": []
    },
    {
      "cell_type": "code",
      "metadata": {
        "colab": {
          "base_uri": "https://localhost:8080/"
        },
        "id": "bpuKa6Y67X8N",
        "outputId": "93f9e4b7-368c-48c7-aa21-10c2c6900b0b"
      },
      "source": [
        "print(c)"
      ],
      "execution_count": 37,
      "outputs": [
        {
          "output_type": "stream",
          "name": "stdout",
          "text": [
            "[[1852]\n",
            " [2454]\n",
            " [4305]]\n"
          ]
        }
      ]
    },
    {
      "cell_type": "markdown",
      "metadata": {
        "id": "IYmnwmSc734a"
      },
      "source": [
        "#3. Mencari Transpose, determinan, dan ivers matrix"
      ]
    },
    {
      "cell_type": "code",
      "metadata": {
        "id": "uiv_GjSh8I3F"
      },
      "source": [
        "m_a = [[23,50,19],\n",
        "     [7,12,109],\n",
        "     [57,67,98]]"
      ],
      "execution_count": 38,
      "outputs": []
    },
    {
      "cell_type": "markdown",
      "metadata": {
        "id": "h5p8F57L7_Qy"
      },
      "source": [
        "###Transpose Matrix"
      ]
    },
    {
      "cell_type": "code",
      "metadata": {
        "id": "wcZvb78K_43s"
      },
      "source": [
        "def Transpose(m_a):\n",
        "  for i in range(len(m_a)):\n",
        "    for j in range(len(m_a[0])):\n",
        "      result[j][i] = m_a[i][j]\n",
        "\n",
        "m_a = [[23,50,19],\n",
        "     [7,12,109],\n",
        "     [57,67,98]]\n",
        "\n",
        "result = [[0,0,0],\n",
        "          [0,0,0],\n",
        "          [0,0,0]]\n",
        "\n",
        "Transpose(m_a)"
      ],
      "execution_count": 39,
      "outputs": []
    },
    {
      "cell_type": "code",
      "metadata": {
        "colab": {
          "base_uri": "https://localhost:8080/"
        },
        "id": "f8OnKS_zA6nA",
        "outputId": "245d4c72-4bd2-4feb-b920-18e8a2330b4a"
      },
      "source": [
        "for hasil_transpose in result:\n",
        "  print(hasil_transpose)"
      ],
      "execution_count": 40,
      "outputs": [
        {
          "output_type": "stream",
          "name": "stdout",
          "text": [
            "[23, 7, 57]\n",
            "[50, 12, 67]\n",
            "[19, 109, 98]\n"
          ]
        }
      ]
    },
    {
      "cell_type": "markdown",
      "metadata": {
        "id": "t3sspSwS8CWa"
      },
      "source": [
        "###Determinan Matrix"
      ]
    },
    {
      "cell_type": "code",
      "metadata": {
        "colab": {
          "base_uri": "https://localhost:8080/"
        },
        "id": "E_IqleZTBLM0",
        "outputId": "aa403da3-497b-481b-f8c5-fcf2d49a3f2e"
      },
      "source": [
        "det(m_a)"
      ],
      "execution_count": 41,
      "outputs": [
        {
          "output_type": "execute_result",
          "data": {
            "text/plain": [
              "131344.0000000002"
            ]
          },
          "metadata": {},
          "execution_count": 41
        }
      ]
    },
    {
      "cell_type": "code",
      "metadata": {
        "colab": {
          "base_uri": "https://localhost:8080/"
        },
        "id": "hCBBTEspF9uQ",
        "outputId": "1a8d2978-eb12-4669-cb77-3a382ced0cb0"
      },
      "source": [
        "round(det(m_a),2)"
      ],
      "execution_count": 42,
      "outputs": [
        {
          "output_type": "execute_result",
          "data": {
            "text/plain": [
              "131344.0"
            ]
          },
          "metadata": {},
          "execution_count": 42
        }
      ]
    },
    {
      "cell_type": "markdown",
      "metadata": {
        "id": "vsc3x-pi8GNC"
      },
      "source": [
        "###Invers Matrix"
      ]
    },
    {
      "cell_type": "code",
      "metadata": {
        "colab": {
          "base_uri": "https://localhost:8080/"
        },
        "id": "BPLTacvsDfgD",
        "outputId": "f7ab372f-9c20-47e3-f481-af91b0b1a8ea"
      },
      "source": [
        "inv(m_a)"
      ],
      "execution_count": 43,
      "outputs": [
        {
          "output_type": "execute_result",
          "data": {
            "text/plain": [
              "array([[-0.0466485 , -0.02761451,  0.03975819],\n",
              "       [ 0.04208034,  0.00891552, -0.01807467],\n",
              "       [-0.00163692,  0.0099662 , -0.00056341]])"
            ]
          },
          "metadata": {},
          "execution_count": 43
        }
      ]
    },
    {
      "cell_type": "code",
      "metadata": {
        "colab": {
          "base_uri": "https://localhost:8080/"
        },
        "id": "5iinVJJsGWi_",
        "outputId": "288d6c5f-a2fb-4fff-8068-85f2cd3e22ee"
      },
      "source": [
        "#cara lain invers\n",
        "np.linalg.inv(m_a)"
      ],
      "execution_count": 44,
      "outputs": [
        {
          "output_type": "execute_result",
          "data": {
            "text/plain": [
              "array([[-0.0466485 , -0.02761451,  0.03975819],\n",
              "       [ 0.04208034,  0.00891552, -0.01807467],\n",
              "       [-0.00163692,  0.0099662 , -0.00056341]])"
            ]
          },
          "metadata": {},
          "execution_count": 44
        }
      ]
    }
  ]
}